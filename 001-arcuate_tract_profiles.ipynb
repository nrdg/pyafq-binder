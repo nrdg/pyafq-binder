{
 "cells": [
  {
   "cell_type": "code",
   "execution_count": null,
   "metadata": {},
   "outputs": [],
   "source": [
    "import os.path as op\n",
    "import AFQ.data as afd\n",
    "from AFQ.definitions.mask import RoiMask\n",
    "from AFQ.definitions.mapping import AffMap\n",
    "from AFQ import api"
   ]
  },
  {
   "cell_type": "code",
   "execution_count": null,
   "metadata": {},
   "outputs": [],
   "source": [
    "myafq = api.AFQ(bids_path=op.join(afd.afq_home, 'stanford_hardi'),\n",
    "                dmriprep='vistasoft',\n",
    "                tracking_params={\"n_seeds\": 1,\n",
    "                                 \"directions\": \"det\",\n",
    "                                 \"odf_model\": \"DTI\",\n",
    "                                 \"seed_mask\": RoiMask()},\n",
    "                bundle_info=[\"ARC\"],\n",
    "                mapping=AffMap(),\n",
    "                viz_backend='plotly_no_gif')"
   ]
  },
  {
   "cell_type": "code",
   "execution_count": null,
   "metadata": {},
   "outputs": [],
   "source": [
    "tract_profiles = pd.read_csv(myafq.tract_profiles[0])"
   ]
  }
 ],
 "metadata": {
  "kernelspec": {
   "display_name": "Python 3",
   "language": "python",
   "name": "python3"
  },
  "language_info": {
   "codemirror_mode": {
    "name": "ipython",
    "version": 3
   },
   "file_extension": ".py",
   "mimetype": "text/x-python",
   "name": "python",
   "nbconvert_exporter": "python",
   "pygments_lexer": "ipython3",
   "version": "3.8.5"
  }
 },
 "nbformat": 4,
 "nbformat_minor": 4
}
